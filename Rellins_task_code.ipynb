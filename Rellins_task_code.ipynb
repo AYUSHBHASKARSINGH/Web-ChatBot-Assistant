{
  "cells": [
    {
      "cell_type": "code",
      "execution_count": 54,
      "metadata": {
        "colab": {
          "base_uri": "https://localhost:8080/"
        },
        "id": "YAQMVULqoakH",
        "outputId": "cfee0a25-089e-417d-896c-83588829b204"
      },
      "outputs": [
        {
          "name": "stdout",
          "output_type": "stream",
          "text": [
            "Requirement already satisfied: openai==1.7.0 in /usr/local/lib/python3.10/dist-packages (1.7.0)\n",
            "Requirement already satisfied: anyio<5,>=3.5.0 in /usr/local/lib/python3.10/dist-packages (from openai==1.7.0) (3.7.1)\n",
            "Requirement already satisfied: distro<2,>=1.7.0 in /usr/lib/python3/dist-packages (from openai==1.7.0) (1.7.0)\n",
            "Requirement already satisfied: httpx<1,>=0.23.0 in /usr/local/lib/python3.10/dist-packages (from openai==1.7.0) (0.26.0)\n",
            "Requirement already satisfied: pydantic<3,>=1.9.0 in /usr/local/lib/python3.10/dist-packages (from openai==1.7.0) (1.10.13)\n",
            "Requirement already satisfied: sniffio in /usr/local/lib/python3.10/dist-packages (from openai==1.7.0) (1.3.0)\n",
            "Requirement already satisfied: tqdm>4 in /usr/local/lib/python3.10/dist-packages (from openai==1.7.0) (4.66.1)\n",
            "Requirement already satisfied: typing-extensions<5,>=4.7 in /usr/local/lib/python3.10/dist-packages (from openai==1.7.0) (4.9.0)\n",
            "Requirement already satisfied: idna>=2.8 in /usr/local/lib/python3.10/dist-packages (from anyio<5,>=3.5.0->openai==1.7.0) (3.6)\n",
            "Requirement already satisfied: exceptiongroup in /usr/local/lib/python3.10/dist-packages (from anyio<5,>=3.5.0->openai==1.7.0) (1.2.0)\n",
            "Requirement already satisfied: certifi in /usr/local/lib/python3.10/dist-packages (from httpx<1,>=0.23.0->openai==1.7.0) (2023.11.17)\n",
            "Requirement already satisfied: httpcore==1.* in /usr/local/lib/python3.10/dist-packages (from httpx<1,>=0.23.0->openai==1.7.0) (1.0.2)\n",
            "Requirement already satisfied: h11<0.15,>=0.13 in /usr/local/lib/python3.10/dist-packages (from httpcore==1.*->httpx<1,>=0.23.0->openai==1.7.0) (0.14.0)\n"
          ]
        }
      ],
      "source": [
        "pip install openai==1.7.0"
      ]
    },
    {
      "cell_type": "markdown",
      "metadata": {
        "id": "padHdzk5yUCQ"
      },
      "source": [
        "***EXTRACTING DATA USING BEAUTIFUL SOUP***"
      ]
    },
    {
      "cell_type": "code",
      "execution_count": 55,
      "metadata": {
        "id": "mu-qVvqlpQI-"
      },
      "outputs": [],
      "source": [
        "import requests\n",
        "from bs4 import BeautifulSoup\n",
        "\n",
        "def fetch_website_content(url):\n",
        "    response = requests.get(url)\n",
        "    return response.text\n",
        "\n",
        "from bs4 import BeautifulSoup\n",
        "\n",
        "def extract_information(html_content):\n",
        "    soup = BeautifulSoup(html_content, 'html.parser')\n",
        "    extracted_info = soup.get_text(separator='\\n')\n",
        "    cleaned_info = ' '.join(extracted_info.split())\n",
        "\n",
        "    return cleaned_info\n",
        "\n",
        "# print(extract_information())"
      ]
    },
    {
      "cell_type": "markdown",
      "metadata": {
        "id": "qAFOP-fMya-e"
      },
      "source": [
        "FORMAT OF API REQUEST\n",
        "\n",
        " from openai import OpenAI\n",
        " client = OpenAI()\n",
        " client = OpenAI(\n",
        "   organization='org-TWqeMIPAtdAdwLs4JdxXdZGn',\n",
        " )\n",
        " completion = client.chat.completions.create(\n",
        "   model=\"gpt-3.5-turbo\",\n",
        "   messages=[\n",
        "     {\"role\": \"system\", \"content\": \"You are a helpful assistant.\"},\n",
        "     {\"role\": \"user\", \"content\": \"Hello!\"}\n",
        "   ]\n",
        " )\n",
        " print(completion.choices[0].message)"
      ]
    },
    {
      "cell_type": "code",
      "execution_count": 56,
      "metadata": {
        "id": "nwrcBm6I5NB4"
      },
      "outputs": [],
      "source": [
        "from openai import OpenAI\n",
        "\n",
        "# SETTING UP API KEY AND ENVIRONMENT\n",
        "client = OpenAI(\n",
        "\n",
        "        # \"Please enter your open ai api key for testing purpose\"\n",
        "        api_key = 'YOUR- KEY',\n",
        "    )\n",
        "\n",
        "def chat_with_gpt(user_input, available_data):\n",
        "    # Combining user input with the available data for context\n",
        "    context = f\"User: {user_input}\\nData: {available_data}\"\n",
        "\n",
        "    # Using the OpenAI GPT-3.5-turbo model to generate a response\n",
        "    response = client.chat.completions.create(\n",
        "        model=\"gpt-3.5-turbo\",\n",
        "        messages=[\n",
        "            {\"role\": \"system\", \"content\": \"You are a helpful assistant and will answer to the best of your understanding with the help of available data in summary.\"},\n",
        "            {\"role\": \"user\", \"content\": user_input},\n",
        "            {\"role\": \"assistant\", \"content\": available_data}\n",
        "        ]\n",
        "    )\n",
        "\n",
        "    return response.choices[0].message.content"
      ]
    },
    {
      "cell_type": "code",
      "execution_count": 57,
      "metadata": {
        "colab": {
          "base_uri": "https://localhost:8080/"
        },
        "id": "Jc7C1kF2oN2p",
        "outputId": "2a457e02-7756-4a7d-cabc-0b9cedfc7bfd"
      },
      "outputs": [
        {
          "name": "stdout",
          "output_type": "stream",
          "text": [
            "Enter \"quit or q or exit\" to quit\n",
            "\n",
            "\n",
            "ASK QUESTION -- eg.(what is botpenguin , how are they helpful in different sectors ) etc.\n",
            "\n",
            "\n",
            "The extracted info is --\n",
            "Free Chatbot maker | Chatbot for Website, WhatsApp | BotPenguin Got 10k+ Facebook followers? Get BotPenguin FREE for 6 months Claim close Why BotPenguin Integrations arrow_right_alt Experience 60+ world-class integrations. Live Chat arrow_right_alt Stay in the loop with your clientele 24*7! Unified Inbox arrow_right_alt Serve your customers across all platforms. Key Features arrow_right_alt Take your business to the next level with our awesome key features. Analytics arrow_right_alt Speedtrack your growth with our top-of-the-line analytics tools! Comparisons BotPenguin Vs. Manychat BotPenguin Vs. Tidio BotPenguin vs Tawk to BotPenguin Vs. Wati BotPenguin Vs. Interakt BotPenguin vs AiSensy BotPenguin Vs. Landbot Product What can it do? Who can use it? Where can it run? Marketing Automation arrow_right_alt Make marketing a boon from the automation gods! WhatsApp Automation arrow_right_alt Get that nifty automation for WhatsApp too! Customer Support arrow_right_alt Your customers are in for a treat with this automation. Lead Generation arrow_right_alt Gain more leads without any extra effort or expenses. FB Automation arrow_right_alt Engage with your customers on a deeper level. Appointment Bookings arrow_right_alt No more delays, BotPenguin’s got you here! Solutions Whitelabel ChatGPT arrow_right_alt Apply your branding on ChatGPT, Launch your own AI platform ChatGPT Developers arrow_right_alt Ride the GPT wave with trained surfers ChatGPT Custom Plugins arrow_right_alt Integrate your service straight into ChatGPT Chatbot Developers arrow_right_alt Build Lighter, Faster, Smarter-Efficiently Custom Chatbot Development arrow_right_alt Build enterprise-grade chatbots with the industry's best technology for you ChatGPT Clone arrow_right_alt Add functionality and branding on ChatGPT ChatGPT Consultants arrow_right_alt Advice that makes the difference in your AI journey Pricing Chatbot Pricing (except WA) arrow_right_alt Our pricing for Website, Telegram, Facebook and Live Chat bots Whitelabel Chatbot Pricing arrow_right_alt Our pricing for Whitelabel Chatbot WhatsApp Chatbot Pricing arrow_right_alt Our WhatsApp API and chatbot pricing Partners Partners Home arrow_right_alt Join hands with us, and welcome growth Whatsapp Whitelabel Partners arrow_right_alt Conquer the WhatsApp land with BotPenguin's White Label Platform Whitelabel Partners arrow_right_alt Say hi to the best Whitelabel chatbot platform ever Affiliate Partners arrow_right_alt Earn more and keep your clients happier Implementation Partners arrow_right_alt As they say, a partner is worth trillions! Login Get Started FREE Get Started FREE arrow_forward Why BotPenguin expand_more Integrations arrow_right_alt Live Chat arrow_right_alt Unified Inbox arrow_right_alt Key Features arrow_right_alt Analytics arrow_right_alt Product expand_more What can it do? expand_more Marketing Automation arrow_right_alt WhatsApp Automation arrow_right_alt Customer Support arrow_right_alt Lead Generation arrow_right_alt FB Automation arrow_right_alt Appointment Bookings arrow_right_alt Who can use it? expand_more Healthcare arrow_right_alt Education arrow_right_alt E-commerce arrow_right_alt Real Estate arrow_right_alt Consultants arrow_right_alt SaaS arrow_right_alt Tours & Travels arrow_right_alt Where can it run? expand_more WhatsApp Chatbot arrow_right_alt Telegram Chatbot arrow_right_alt Facebook Chatbot arrow_right_alt Wordpress Chatbot arrow_right_alt Websites Chatbot arrow_right_alt Squarespace Chatbot arrow_right_alt Solutions expand_more Whitelabel ChatGPT arrow_right_alt ChatGPT Developers arrow_right_alt ChatGPT Custom Plugins arrow_right_alt Chatbot Developers arrow_right_alt Custom Chatbot Development arrow_right_alt ChatGPT Clone arrow_right_alt ChatGPT Consultants arrow_right_alt Pricing expand_more Chatbot Pricing (except WA) arrow_right_alt Whitelabel Chatbot Pricing arrow_right_alt WhatsApp Chatbot Pricing arrow_right_alt Partners expand_more Partners Home arrow_right_alt Whatsapp Whitelabel Partners arrow_right_alt Whitelabel Partners arrow_right_alt Affiliate Partners arrow_right_alt Implementation Partners arrow_right_alt Login arrow_forward DO MORE with Chat Automation! BotPenguin’s Chatbot Maker and Live Chat for Website, WhatsApp, Facebook and Telegram! More leads. More engagement. Better customer support. Get leads the moment your visitors interact with your website. Get Started FREE FREE Forever Plan, No Credit Card Required An AI chatbot that can be anywhere, anytime Keep your customers happy and engaged with an omni channel presence across all platforms with BotPenguin’s chatbot maker. Trust us. It feels super cool to help your customers all the time. WhatsApp Market and sell products on Whatsapp. Grow your business with our Whatsapp chatbot maker. Facebook Serve your customers on facebook, 24x7. Give your users the treat of the best customer support ever. Telegram Run our Telegram bot to schedule appointments, serve customers and much more Website Keep the lead generation easy with BotPenguin taking care of your digital shop Live chat Live chat with your customers to create an quick connect with the leads Chatbot Page Be the numero uno in customer service with a chatbot page to conduct surveys and feedbacks Let's get in touch Fill up the form and our team will get back to you within 24 hours contact@botpenguin.com Enter your Name Enter your Email + expand_more Enter your Phone Number Whitelabel Partner WhatsApp Whitelabel Partner Implementation Partner Affiliate Partner Emperor Plan Custom ChatGPT Development Custom ChatBot Development Others Select your requirement Enter your Message Cancel Submit By submitting this form you agree to our terms. View our privacy policy to learn about how we use your information. Let's get in touch Fill up the form and our team will get back to you within 24 hours contact@botpenguin.com Enter your Name* Enter your Email* + expand_more Enter your Phone Number Enter your Facebook Page Link* 10k to 100k 100k to 1Mn 1Mn to 3Mn 3Mn to 10Mn 10Mn+ Select the number of followers* Less than 100k 100k to 500k 500k+ Select number of FB messages you get* Enter any other information Cancel Claim By submitting this form you agree to our terms. View our privacy policy to learn about how we use your information.\n",
            "\n",
            "\n",
            "You: what is botpenguin\n",
            "Chatbot: BotPenguin is a chatbot maker that allows you to create chatbots for your website, WhatsApp, Facebook, and Telegram. It offers various features such as marketing automation, WhatsApp automation, customer support, lead generation, FB automation, and appointment bookings. It can be used by various industries including healthcare, education, e-commerce, real estate, consultants, SaaS, and tours & travels. BotPenguin provides integrations with over 60 platforms and also offers analytics tools to track your chatbot's performance. They have different pricing plans available for different chatbot solutions.\n",
            "\n",
            "\n",
            "You: In which sectors it can be used\n",
            "Chatbot: Based on the information provided, the BotPenguin chatbot maker can be used in various sectors, including healthcare, education, e-commerce, real estate, consultants, SaaS, and tours & travels. It can be run on platforms such as WhatsApp, Telegram, Facebook, WordPress, websites, and Squarespace. BotPenguin offers features for marketing automation, WhatsApp automation, customer support, lead generation, FB automation, and appointment bookings.\n",
            "\n",
            "\n",
            "You: how it can help in healthcare sector\n",
            "Chatbot: BotPenguin is a chatbot maker that offers chatbot solutions for various platforms, including websites, WhatsApp, Facebook, and Telegram. In the healthcare sector, BotPenguin's chatbot can be used to improve customer support and engagement. It allows healthcare organizations to provide 24/7 support to their patients, answer frequently asked questions, schedule appointments, and conduct surveys and feedbacks. The chatbot can also help in lead generation by capturing potential patients' information and assisting them in finding the right medical services. Additionally, BotPenguin offers integrations and analytics tools to track the performance and effectiveness of the chatbot in the healthcare sector.\n",
            "\n",
            "\n",
            "You: quit\n",
            "Goodbye!\n"
          ]
        }
      ],
      "source": [
        "import requests\n",
        "from bs4 import BeautifulSoup\n",
        "\n",
        "\n",
        "\n",
        "#Console demonstration\n",
        "def console_demo():\n",
        "\n",
        "    url1 = 'https://botpenguin.com/'\n",
        "    url2 = 'https://botpenguin.com/chatbot-integrations'\n",
        "    url3 = 'https://botpenguin.com/chatbot-pricing'\n",
        "\n",
        "    website_content1 = fetch_website_content(url1)\n",
        "    # website_content2 = fetch_website_content(url2)\n",
        "    # website_content3 = fetch_website_content(url3)\n",
        "\n",
        "    extracted_info = extract_information(website_content1)\n",
        "    print('\\n')\n",
        "    print('The extracted info is --')\n",
        "    print(extracted_info)\n",
        "\n",
        "    # UNCOMMENT FOR GETTING MORE INFO FROM EXTRACTED DATA USING OTHER PAGES OF WEBSITE TOO\n",
        "\n",
        "    # extracted_info = extracted_info + extract_information(website_content2)\n",
        "    # extracted_info = extracted_info + extract_information(website_content3)\n",
        "\n",
        "\n",
        "\n",
        "    while True:\n",
        "        print('\\n')\n",
        "        user_input = input(\"You: \")\n",
        "\n",
        "        if user_input.lower() in ['exit', 'quit', 'q']:\n",
        "            print(\"Goodbye!\")\n",
        "            break\n",
        "        context = f\"User: {user_input}\\nWebsite Info: {extracted_info}\"\n",
        "        response = chat_with_gpt(context,extracted_info)\n",
        "\n",
        "        print(f\"Chatbot: {response}\")\n",
        "\n",
        "if __name__ == \"__main__\":\n",
        "    print('Enter \"quit or q or exit\" to quit')\n",
        "    print('\\n')\n",
        "    print(\"ASK QUESTION -- eg.(what is botpenguin , how are they helpful in different sectors ) etc.\")\n",
        "    console_demo()\n"
      ]
    }
  ],
  "metadata": {
    "colab": {
      "provenance": []
    },
    "kernelspec": {
      "display_name": "Python 3",
      "name": "python3"
    },
    "language_info": {
      "name": "python"
    }
  },
  "nbformat": 4,
  "nbformat_minor": 0
}
